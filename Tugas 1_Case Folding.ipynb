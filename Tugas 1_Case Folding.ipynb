{
 "cells": [
  {
   "cell_type": "markdown",
   "id": "bd91c53c",
   "metadata": {},
   "source": [
    "<h1>Import Library</h1>"
   ]
  },
  {
   "cell_type": "code",
   "execution_count": 13,
   "id": "4acdbcb8",
   "metadata": {},
   "outputs": [],
   "source": [
    "import re\n",
    "import pandas as pd\n",
    "import nltk\n",
    "import json\n",
    "from sklearn.feature_extraction.text import TfidfVectorizer\n",
    "from sklearn.model_selection import train_test_split\n",
    "from sklearn.metrics import classification_report\n",
    "from Sastrawi.Stemmer.StemmerFactory import StemmerFactory\n",
    "from nltk.corpus import stopwords\n",
    "from nltk.tokenize import word_tokenize\n",
    "from nltk.sentiment.vader import SentimentIntensityAnalyzer\n",
    "from sklearn.feature_extraction.text import TfidfVectorizer\n",
    "from sklearn.model_selection import train_test_split\n",
    "from sklearn.svm import SVC\n",
    "from sklearn.model_selection import GridSearchCV\n",
    "from sklearn.metrics import classification_report, confusion_matrix\n",
    "import seaborn as sns\n",
    "import matplotlib.pyplot as plt\n",
    "from wordcloud import WordCloud\n",
    "import emoji\n",
    "from nltk.tokenize import RegexpTokenizer\n",
    "from Sastrawi.StopWordRemover.StopWordRemoverFactory import StopWordRemoverFactory"
   ]
  },
  {
   "cell_type": "markdown",
   "id": "174be1c1",
   "metadata": {},
   "source": [
    "<h1>Baca Data</h1>"
   ]
  },
  {
   "cell_type": "code",
   "execution_count": 14,
   "id": "066498b3",
   "metadata": {},
   "outputs": [],
   "source": [
    "df = pd.read_csv(\"data.csv\")\n",
    "texts = df[\"full_text\"].astype(str)\n",
    "texts.to_csv(\"data.csv\", index=False)"
   ]
  },
  {
   "cell_type": "markdown",
   "id": "4db2f14c",
   "metadata": {},
   "source": [
    "<h1>PraPemrosesan import Stemmer dari Sastrawi</h1>"
   ]
  },
  {
   "cell_type": "code",
   "execution_count": 15,
   "id": "069f6f0f",
   "metadata": {},
   "outputs": [],
   "source": [
    "factory = StemmerFactory()\n",
    "stemmer = factory.create_stemmer()\n",
    "stop_nltk = set(stopwords.words('indonesian'))\n",
    "stop_sastrawi = set(StopWordRemoverFactory().get_stop_words())\n",
    "stop_words = stop_nltk.union(stop_sastrawi)\n",
    "\n",
    "\n",
    "tokenizer = RegexpTokenizer(r'\\w+')"
   ]
  },
  {
   "cell_type": "markdown",
   "id": "83cc2f12",
   "metadata": {},
   "source": [
    "<h1>Pembersihan data menggunakan case folding CPMK 2</h1>"
   ]
  },
  {
   "cell_type": "code",
   "execution_count": 16,
   "id": "ebe69659",
   "metadata": {},
   "outputs": [],
   "source": [
    "def case_folding(text):\n",
    "    text = text.lower()\n",
    "    return text\n",
    "\n",
    "df_new = pd.DataFrame({\n",
    "    \"full_text\": texts,\n",
    "    \"case_folding\": texts.apply(case_folding)\n",
    "})\n",
    "\n",
    "df_new.to_csv(\"data_casefolding.csv\", index=False)"
   ]
  },
  {
   "cell_type": "markdown",
   "id": "ce56bba3",
   "metadata": {},
   "source": [
    "<h1>Preprocessing regex, tokenisasi dan pemakaian stemmer CPMK 3</h1>"
   ]
  },
  {
   "cell_type": "code",
   "execution_count": 17,
   "id": "a5f7f59e",
   "metadata": {},
   "outputs": [],
   "source": [
    "def clean_text(text):\n",
    "    text = text.lower()\n",
    "    text = re.sub(r'http\\S+|www\\S+', ' ', text)     \n",
    "    text = re.sub(r'@\\w+', ' ', text)               \n",
    "    text = emoji.demojize(text)                     \n",
    "    text = re.sub(r'\\d+',' ', text)                 \n",
    "    text = re.sub(r'[^\\w\\s]',' ', text)            \n",
    "    text = re.sub(r'(.)\\1{2,}', r'\\1', text)        \n",
    "    text = re.sub(r'\\s+',' ', text).strip()         \n",
    "    tokens = tokenizer.tokenize(text)\n",
    "    tokens = [w for w in tokens if w not in stop_words]\n",
    "    tokens = [stemmer.stem(w) for w in tokens]\n",
    "\n",
    "    return \" \".join(tokens)\n",
    "\n",
    "df[\"preprocessing\"] = texts.apply(clean_text)\n",
    "\n",
    "df_new = pd.DataFrame({\n",
    "    \"full_text\": texts,\n",
    "    \"case_folding CPMK2\": texts.apply(case_folding),\n",
    "    \"preprocessing CPMK3\": df[\"preprocessing\"]\n",
    "})\n",
    "\n",
    "df_new.to_csv(\"data.csv\", index=False)"
   ]
  },
  {
   "cell_type": "markdown",
   "id": "7b023f8b",
   "metadata": {},
   "source": [
    "<h1>Pemanggilan inset_lexicon.json sebagai labeling data (data dilabeling auto)</h1>"
   ]
  },
  {
   "cell_type": "code",
   "execution_count": 18,
   "id": "fcefd54d",
   "metadata": {},
   "outputs": [
    {
     "name": "stdout",
     "output_type": "stream",
     "text": [
      "Distribusi Sentimen (dengan InSet):\n",
      " sentiment\n",
      "positive    774\n",
      "negative    443\n",
      "neutral     297\n",
      "Name: count, dtype: int64\n"
     ]
    }
   ],
   "source": [
    "with open(\"inset_lexicon.json\", \"r\", encoding=\"utf-8\") as f:\n",
    "    inset_lex = json.load(f)\n",
    "\n",
    "pos_dict = inset_lex.get(\"positive\", {})\n",
    "neg_dict = inset_lex.get(\"negative\", {})\n",
    "\n",
    "def label_with_inset(text):\n",
    "    score = 0.0\n",
    "    for w in text.split():\n",
    "        if w in pos_dict:\n",
    "            score += pos_dict[w]\n",
    "        elif w in neg_dict:\n",
    "            score += neg_dict[w]\n",
    "    if score > 0:\n",
    "        return \"positive\"\n",
    "    elif score < 0:\n",
    "        return \"negative\"\n",
    "    else:\n",
    "        return \"neutral\"\n",
    "\n",
    "df[\"sentiment\"] = df[\"preprocessing\"].apply(label_with_inset)\n",
    "print(\"Distribusi Sentimen (dengan InSet):\\n\", df[\"sentiment\"].value_counts())\n"
   ]
  },
  {
   "cell_type": "markdown",
   "id": "14db8064",
   "metadata": {},
   "source": [
    "<h1>Pembobotan TF-IDF</h1>"
   ]
  },
  {
   "cell_type": "code",
   "execution_count": 19,
   "id": "63961449",
   "metadata": {},
   "outputs": [],
   "source": [
    "X = df[\"preprocessing\"]\n",
    "y = df[\"sentiment\"]\n",
    "\n",
    "vectorizer = TfidfVectorizer(\n",
    "    max_features=2000,   \n",
    "    ngram_range=(1,2),   \n",
    "    sublinear_tf=True,\n",
    "    min_df=2              \n",
    ")\n",
    "X_tfidf = vectorizer.fit_transform(df[\"preprocessing\"])\n",
    "\n",
    "X_train, X_test, y_train, y_test = train_test_split(\n",
    "    X_tfidf, y, test_size=0.2, random_state=42, stratify=y\n",
    ")"
   ]
  },
  {
   "cell_type": "markdown",
   "id": "d5d5d6da",
   "metadata": {},
   "source": [
    "<h1>Modelling dengan tuning GridSearch</h1>"
   ]
  },
  {
   "cell_type": "code",
   "execution_count": 20,
   "id": "1e4a935c",
   "metadata": {},
   "outputs": [
    {
     "name": "stdout",
     "output_type": "stream",
     "text": [
      "Fitting 5 folds for each of 450 candidates, totalling 2250 fits\n",
      "Best Parameters: {'C': 10, 'class_weight': None, 'degree': 2, 'gamma': 0.1, 'kernel': 'rbf'}\n",
      "Best CV Score (F1-macro): 0.6351664973105192\n",
      "Classification Report (Best SVM):\n",
      "               precision    recall  f1-score   support\n",
      "\n",
      "    negative       0.66      0.57      0.61        89\n",
      "     neutral       0.61      0.46      0.52        59\n",
      "    positive       0.72      0.85      0.78       155\n",
      "\n",
      "    accuracy                           0.69       303\n",
      "   macro avg       0.67      0.63      0.64       303\n",
      "weighted avg       0.68      0.69      0.68       303\n",
      "\n"
     ]
    }
   ],
   "source": [
    "param_grid = {\n",
    "    \"C\": [0.01, 0.1, 1, 10, 100],\n",
    "    \"kernel\": [\"linear\", \"rbf\", \"poly\"],\n",
    "    \"gamma\": [\"scale\", \"auto\", 0.01, 0.1, 1],\n",
    "    \"degree\": [2, 3, 4], \n",
    "    \"class_weight\": [None, \"balanced\"]\n",
    "}\n",
    "\n",
    "\n",
    "grid_search = GridSearchCV(\n",
    "    SVC(random_state=42),\n",
    "    param_grid,\n",
    "    cv=5,\n",
    "    scoring=\"f1_macro\",  \n",
    "    n_jobs=-1,\n",
    "    verbose=2\n",
    ")\n",
    "\n",
    "grid_search.fit(X_train, y_train)\n",
    "\n",
    "print(\"Best Parameters:\", grid_search.best_params_)\n",
    "print(\"Best CV Score (F1-macro):\", grid_search.best_score_)\n",
    "\n",
    "best_svm = grid_search.best_estimator_\n",
    "y_pred = best_svm.predict(X_test)\n",
    "\n",
    "print(\"Classification Report (Best SVM):\\n\", classification_report(y_test, y_pred))\n"
   ]
  },
  {
   "cell_type": "markdown",
   "id": "268a4373",
   "metadata": {},
   "source": [
    "<h1>Evaluasi</h1>"
   ]
  },
  {
   "cell_type": "code",
   "execution_count": 21,
   "id": "a7fe111e",
   "metadata": {},
   "outputs": [
    {
     "data": {
      "image/png": "[encoded data removed]",
      "text/plain": [
       "<Figure size 600x400 with 2 Axes>"
      ]
     },
     "metadata": {},
     "output_type": "display_data"
    }
   ],
   "source": [
    "cm = confusion_matrix(y_test, y_pred, labels=best_svm.classes_)\n",
    "\n",
    "plt.figure(figsize=(6,4))\n",
    "sns.heatmap(cm, annot=True, fmt=\"d\", cmap=\"Blues\",\n",
    "            xticklabels=best_svm.classes_,\n",
    "            yticklabels=best_svm.classes_)\n",
    "plt.xlabel(\"Predicted\")\n",
    "plt.ylabel(\"Actual\")\n",
    "plt.title(\"Confusion Matrix (SVM)\")\n",
    "plt.show()\n"
   ]
  },
  {
   "cell_type": "markdown",
   "id": "d0b5b6f7",
   "metadata": {},
   "source": [
    "<h1>Visualisasi</h1>"
   ]
  },
  {
   "cell_type": "code",
   "execution_count": 22,
   "id": "25a0f58b",
   "metadata": {},
   "outputs": [
    {
     "name": "stderr",
     "output_type": "stream",
     "text": [
      "C:\\Users\\Ninak\\AppData\\Local\\Temp\\ipykernel_16540\\3271645276.py:2: FutureWarning: \n",
      "\n",
      "Passing `palette` without assigning `hue` is deprecated and will be removed in v0.14.0. Assign the `x` variable to `hue` and set `legend=False` for the same effect.\n",
      "\n",
      "  sns.countplot(x=\"sentiment\", data=df,\n"
     ]
    },
    {
     "data": {
      "image/png": "[encoded data removed]",
      "text/plain": [
       "<Figure size 600x400 with 1 Axes>"
      ]
     },
     "metadata": {},
     "output_type": "display_data"
    }
   ],
   "source": [
    "plt.figure(figsize=(6,4))\n",
    "sns.countplot(x=\"sentiment\", data=df,\n",
    "              order=[\"positive\",\"neutral\",\"negative\"],\n",
    "              palette=\"Set2\")\n",
    "plt.title(\"Distribusi Sentimen\")\n",
    "plt.show()\n"
   ]
  }
 ],
 "metadata": {
  "kernelspec": {
   "display_name": "Python 3",
   "language": "python",
   "name": "python3"
  },
  "language_info": {
   "codemirror_mode": {
    "name": "ipython",
    "version": 3
   },
   "file_extension": ".py",
   "mimetype": "text/x-python",
   "name": "python",
   "nbconvert_exporter": "python",
   "pygments_lexer": "ipython3",
   "version": "3.12.3"
  }
 },
 "nbformat": 4,
 "nbformat_minor": 5
}
